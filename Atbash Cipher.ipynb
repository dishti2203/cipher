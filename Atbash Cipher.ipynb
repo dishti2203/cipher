{
 "cells": [
  {
   "cell_type": "code",
   "execution_count": 3,
   "id": "c7fc20ed",
   "metadata": {},
   "outputs": [
    {
     "name": "stdout",
     "output_type": "stream",
     "text": [
      "TVVPH ULI TVVPH\n",
      "GEEKS FOR GEEKS\n"
     ]
    }
   ],
   "source": [
    "# Atbash cipher\n",
    "# Taking the alphabet and mapping it to its reverse\n",
    "# A->Z\n",
    "# B->Y\n",
    "# Code:\n",
    "# Python program to implement Atbash Cipher\n",
    "\n",
    "# This script uses dictionaries to lookup various alphabets\n",
    "lookup_table = {'A' : 'Z', 'B' : 'Y', 'C' : 'X', 'D' : 'W', 'E' : 'V','F' : 'U', 'G' : 'T', 'H' : 'S', 'I' : 'R', 'J' : 'Q',\n",
    "'K' : 'P', 'L' : 'O', 'M' : 'N', 'N' : 'M', 'O' : 'L','P' : 'K', 'Q' : 'J', 'R' : 'I', 'S' : 'H', 'T' : 'G',\n",
    "'U' : 'F', 'V' : 'E', 'W' : 'D', 'X' : 'C', 'Y' : 'B', 'Z' : 'A'}\n",
    "\n",
    "def atbash(message):\n",
    "    cipher = ''\n",
    "    for letter in message:\n",
    "        # checks for space\n",
    "        if(letter != ' '):\n",
    "            #adds the corresponding letter from the lookup_table\n",
    "            cipher += lookup_table[letter]\n",
    "        else:\n",
    "            # adds space\n",
    "            cipher += ' '\n",
    "    return cipher\n",
    "\n",
    "# Driver function to run the program\n",
    "def main():\n",
    "    #encrypt the given message\n",
    "    message = 'GEEKS FOR GEEKS'\n",
    "    print(atbash(message.upper()))\n",
    "    \n",
    "    #decrypt the given message\n",
    "    message = 'TVVPH ULI TVVPH'\n",
    "    print(atbash(message.upper()))\n",
    "\n",
    "\n",
    "# Executes the main function\n",
    "if __name__ == '__main__':\n",
    "    main()\n"
   ]
  },
  {
   "cell_type": "code",
   "execution_count": null,
   "id": "7e77d238",
   "metadata": {},
   "outputs": [],
   "source": []
  }
 ],
 "metadata": {
  "kernelspec": {
   "display_name": "Python 3 (ipykernel)",
   "language": "python",
   "name": "python3"
  },
  "language_info": {
   "codemirror_mode": {
    "name": "ipython",
    "version": 3
   },
   "file_extension": ".py",
   "mimetype": "text/x-python",
   "name": "python",
   "nbconvert_exporter": "python",
   "pygments_lexer": "ipython3",
   "version": "3.11.4"
  }
 },
 "nbformat": 4,
 "nbformat_minor": 5
}
